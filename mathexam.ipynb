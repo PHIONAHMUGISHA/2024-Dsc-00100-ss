{
 "cells": [
  {
   "cell_type": "code",
   "execution_count": 1,
   "id": "93233d93-b52c-43ab-9e55-92971cc0808d",
   "metadata": {},
   "outputs": [],
   "source": [
    "#construct a matrix below "
   ]
  },
  {
   "cell_type": "code",
   "execution_count": 4,
   "id": "d00f0bcd-8161-49f5-ad28-00f5828f3d1f",
   "metadata": {},
   "outputs": [
    {
     "name": "stdout",
     "output_type": "stream",
     "text": [
      "<function transpose at 0x000001C1A421E520>\n"
     ]
    }
   ],
   "source": [
    "import numpy as np\n",
    "([1,0.2,0.5],[0.2,1,0.8],[0.5,0.8,1])\n",
    "matrix=np.array\n",
    "print(np.transpose)"
   ]
  },
  {
   "cell_type": "code",
   "execution_count": 17,
   "id": "06ee4569-3a41-41d5-92b0-c7aa4796d8a2",
   "metadata": {},
   "outputs": [
    {
     "ename": "AttributeError",
     "evalue": "module 'numpy' has no attribute 'determinant'",
     "output_type": "error",
     "traceback": [
      "\u001b[1;31m---------------------------------------------------------------------------\u001b[0m",
      "\u001b[1;31mAttributeError\u001b[0m                            Traceback (most recent call last)",
      "Cell \u001b[1;32mIn[17], line 6\u001b[0m\n\u001b[0;32m      4\u001b[0m ([\u001b[38;5;241m1\u001b[39m,\u001b[38;5;241m0.2\u001b[39m,\u001b[38;5;241m0.5\u001b[39m],[\u001b[38;5;241m0.2\u001b[39m,\u001b[38;5;241m1\u001b[39m,\u001b[38;5;241m0.8\u001b[39m],[\u001b[38;5;241m0.8\u001b[39m,\u001b[38;5;241m1\u001b[39m])\n\u001b[0;32m      5\u001b[0m matrix\u001b[38;5;241m=\u001b[39mnp\u001b[38;5;241m.\u001b[39marray\n\u001b[1;32m----> 6\u001b[0m \u001b[38;5;28mprint\u001b[39m(\u001b[43mnp\u001b[49m\u001b[38;5;241;43m.\u001b[39;49m\u001b[43mdeterminant\u001b[49m)\n",
      "File \u001b[1;32m~\\AppData\\Local\\Packages\\PythonSoftwareFoundation.Python.3.12_qbz5n2kfra8p0\\LocalCache\\local-packages\\Python312\\site-packages\\numpy\\__init__.py:428\u001b[0m, in \u001b[0;36m__getattr__\u001b[1;34m(attr)\u001b[0m\n\u001b[0;32m    425\u001b[0m     \u001b[38;5;28;01mimport\u001b[39;00m \u001b[38;5;21;01mnumpy\u001b[39;00m\u001b[38;5;21;01m.\u001b[39;00m\u001b[38;5;21;01mchar\u001b[39;00m \u001b[38;5;28;01mas\u001b[39;00m \u001b[38;5;21;01mchar\u001b[39;00m\n\u001b[0;32m    426\u001b[0m     \u001b[38;5;28;01mreturn\u001b[39;00m char\u001b[38;5;241m.\u001b[39mchararray\n\u001b[1;32m--> 428\u001b[0m \u001b[38;5;28;01mraise\u001b[39;00m \u001b[38;5;167;01mAttributeError\u001b[39;00m(\u001b[38;5;124m\"\u001b[39m\u001b[38;5;124mmodule \u001b[39m\u001b[38;5;132;01m{!r}\u001b[39;00m\u001b[38;5;124m has no attribute \u001b[39m\u001b[38;5;124m\"\u001b[39m\n\u001b[0;32m    429\u001b[0m                      \u001b[38;5;124m\"\u001b[39m\u001b[38;5;132;01m{!r}\u001b[39;00m\u001b[38;5;124m\"\u001b[39m\u001b[38;5;241m.\u001b[39mformat(\u001b[38;5;18m__name__\u001b[39m, attr))\n",
      "\u001b[1;31mAttributeError\u001b[0m: module 'numpy' has no attribute 'determinant'"
     ]
    }
   ],
   "source": [
    "# construct a matrix below \n",
    "#qn 2\n",
    "import numpy as np \n",
    "([1,0.2,0.5],[0.2,1,0.8],[0.8,1])\n",
    "matrix=np.array\n",
    "print(np.determinant)\n",
    "\n",
    "\n",
    "\n",
    "\n"
   ]
  },
  {
   "cell_type": "code",
   "execution_count": null,
   "id": "db467188-e576-4f57-b089-5cc0b1ea46d5",
   "metadata": {},
   "outputs": [],
   "source": [
    "#construct a matrix below \n",
    "import numpy as np\n",
    "matrix =np.array\n",
    "print(np.determinant)"
   ]
  }
 ],
 "metadata": {
  "kernelspec": {
   "display_name": "Python 3 (ipykernel)",
   "language": "python",
   "name": "python3"
  },
  "language_info": {
   "codemirror_mode": {
    "name": "ipython",
    "version": 3
   },
   "file_extension": ".py",
   "mimetype": "text/x-python",
   "name": "python",
   "nbconvert_exporter": "python",
   "pygments_lexer": "ipython3",
   "version": "3.12.7"
  }
 },
 "nbformat": 4,
 "nbformat_minor": 5
}
